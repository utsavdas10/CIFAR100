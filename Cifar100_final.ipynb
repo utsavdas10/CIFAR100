{
 "cells": [
  {
   "cell_type": "code",
   "execution_count": 3,
   "metadata": {
    "executionInfo": {
     "elapsed": 14686,
     "status": "ok",
     "timestamp": 1700915176430,
     "user": {
      "displayName": "Utsav Das",
      "userId": "03850994718273475390"
     },
     "user_tz": -330
    },
    "id": "_Jno9uZx8ZtA"
   },
   "outputs": [],
   "source": [
    "import pickle\n",
    "import pandas as pd\n",
    "import numpy as np\n",
    "import matplotlib.pyplot as plt\n",
    "from pylab import rcParams\n",
    "import tensorflow as tf\n",
    "import keras\n",
    "get_ipython().run_line_magic('matplotlib', 'inline')\n",
    "from keras.models import Sequential, load_model\n",
    "from keras.layers import Conv2D, MaxPool2D, Dropout, Flatten, Dense\n",
    "from keras.layers import BatchNormalization\n",
    "from keras.preprocessing.image import ImageDataGenerator\n",
    "from keras.callbacks import Callback, EarlyStopping, ModelCheckpoint\n",
    "from sklearn.metrics import confusion_matrix, classification_report\n",
    "from skimage.transform import resize\n",
    "import seaborn as sns\n",
    "import cv2"
   ]
  },
  {
   "cell_type": "code",
   "execution_count": 4,
   "metadata": {
    "executionInfo": {
     "elapsed": 21,
     "status": "ok",
     "timestamp": 1700915176431,
     "user": {
      "displayName": "Utsav Das",
      "userId": "03850994718273475390"
     },
     "user_tz": -330
    },
    "id": "7SauK7HQ73eM"
   },
   "outputs": [],
   "source": [
    "def unpickle(file):\n",
    "    with open(file, 'rb') as fo:\n",
    "        myDict = pickle.load(fo, encoding='latin1')\n",
    "    return myDict"
   ]
  },
  {
   "cell_type": "code",
   "execution_count": 5,
   "metadata": {
    "executionInfo": {
     "elapsed": 7930,
     "status": "ok",
     "timestamp": 1700915184340,
     "user": {
      "displayName": "Utsav Das",
      "userId": "03850994718273475390"
     },
     "user_tz": -330
    },
    "id": "OXhA-0ST8kIc"
   },
   "outputs": [],
   "source": [
    "trainData = unpickle(r'C:\\Users\\Utsav\\OneDrive\\Desktop\\projects\\CIPHAR-100\\Dataset\\train')\n",
    "testData = unpickle(r'C:\\Users\\Utsav\\OneDrive\\Desktop\\projects\\CIPHAR-100\\Dataset\\test')\n",
    "metaData = unpickle(r'C:\\Users\\Utsav\\OneDrive\\Desktop\\projects\\CIPHAR-100\\Dataset\\meta')"
   ]
  },
  {
   "cell_type": "code",
   "execution_count": 6,
   "metadata": {
    "colab": {
     "base_uri": "https://localhost:8080/"
    },
    "executionInfo": {
     "elapsed": 59,
     "status": "ok",
     "timestamp": 1700915184341,
     "user": {
      "displayName": "Utsav Das",
      "userId": "03850994718273475390"
     },
     "user_tz": -330
    },
    "id": "RlU9hV2Z9B6E",
    "outputId": "ed3ce3ba-a07a-459a-d642-5e6a9483f61e"
   },
   "outputs": [
    {
     "name": "stdout",
     "output_type": "stream",
     "text": [
      "filenames <class 'list'>\n",
      "batch_label <class 'str'>\n",
      "fine_labels <class 'list'>\n",
      "coarse_labels <class 'list'>\n",
      "data <class 'numpy.ndarray'>\n"
     ]
    }
   ],
   "source": [
    "for item in trainData:\n",
    "    print(item, type(trainData[item]))"
   ]
  },
  {
   "cell_type": "code",
   "execution_count": 7,
   "metadata": {
    "colab": {
     "base_uri": "https://localhost:8080/"
    },
    "executionInfo": {
     "elapsed": 54,
     "status": "ok",
     "timestamp": 1700915184341,
     "user": {
      "displayName": "Utsav Das",
      "userId": "03850994718273475390"
     },
     "user_tz": -330
    },
    "id": "E51o-YAS9Q-1",
    "outputId": "969b352d-2607-4a2a-cb7c-7fa1cc18cf48"
   },
   "outputs": [
    {
     "name": "stdout",
     "output_type": "stream",
     "text": [
      "50000\n",
      "3072\n"
     ]
    }
   ],
   "source": [
    "print(len(trainData['data']))\n",
    "print(len(trainData['data'][0]))"
   ]
  },
  {
   "cell_type": "code",
   "execution_count": 8,
   "metadata": {
    "colab": {
     "base_uri": "https://localhost:8080/"
    },
    "executionInfo": {
     "elapsed": 52,
     "status": "ok",
     "timestamp": 1700915184342,
     "user": {
      "displayName": "Utsav Das",
      "userId": "03850994718273475390"
     },
     "user_tz": -330
    },
    "id": "5EiZW9Aq9d1f",
    "outputId": "406a4dc9-17f4-4808-a181-7ee118e04ce1"
   },
   "outputs": [
    {
     "name": "stdout",
     "output_type": "stream",
     "text": [
      "[ 0  1  2  3  4  5  6  7  8  9 10 11 12 13 14 15 16 17 18 19 20 21 22 23\n",
      " 24 25 26 27 28 29 30 31 32 33 34 35 36 37 38 39 40 41 42 43 44 45 46 47\n",
      " 48 49 50 51 52 53 54 55 56 57 58 59 60 61 62 63 64 65 66 67 68 69 70 71\n",
      " 72 73 74 75 76 77 78 79 80 81 82 83 84 85 86 87 88 89 90 91 92 93 94 95\n",
      " 96 97 98 99]\n",
      "[ 0  1  2  3  4  5  6  7  8  9 10 11 12 13 14 15 16 17 18 19]\n",
      "training batch 1 of 1\n",
      "50000\n"
     ]
    }
   ],
   "source": [
    "print(np.unique(trainData['fine_labels']))\n",
    "print(np.unique(trainData['coarse_labels']))\n",
    "print(trainData['batch_label'])\n",
    "print(len(trainData['filenames']))"
   ]
  },
  {
   "cell_type": "code",
   "execution_count": 9,
   "metadata": {
    "colab": {
     "base_uri": "https://localhost:8080/",
     "height": 676
    },
    "executionInfo": {
     "elapsed": 49,
     "status": "ok",
     "timestamp": 1700915184342,
     "user": {
      "displayName": "Utsav Das",
      "userId": "03850994718273475390"
     },
     "user_tz": -330
    },
    "id": "ZhD9_s-z9gx-",
    "outputId": "d7d4c4bd-a124-4e22-fb6e-1e8f20d2b9b0"
   },
   "outputs": [
    {
     "data": {
      "text/html": [
       "<div>\n",
       "<style scoped>\n",
       "    .dataframe tbody tr th:only-of-type {\n",
       "        vertical-align: middle;\n",
       "    }\n",
       "\n",
       "    .dataframe tbody tr th {\n",
       "        vertical-align: top;\n",
       "    }\n",
       "\n",
       "    .dataframe thead th {\n",
       "        text-align: right;\n",
       "    }\n",
       "</style>\n",
       "<table border=\"1\" class=\"dataframe\">\n",
       "  <thead>\n",
       "    <tr style=\"text-align: right;\">\n",
       "      <th></th>\n",
       "      <th>SuperClass</th>\n",
       "    </tr>\n",
       "  </thead>\n",
       "  <tbody>\n",
       "    <tr>\n",
       "      <th>0</th>\n",
       "      <td>aquatic_mammals</td>\n",
       "    </tr>\n",
       "    <tr>\n",
       "      <th>1</th>\n",
       "      <td>fish</td>\n",
       "    </tr>\n",
       "    <tr>\n",
       "      <th>2</th>\n",
       "      <td>flowers</td>\n",
       "    </tr>\n",
       "    <tr>\n",
       "      <th>3</th>\n",
       "      <td>food_containers</td>\n",
       "    </tr>\n",
       "    <tr>\n",
       "      <th>4</th>\n",
       "      <td>fruit_and_vegetables</td>\n",
       "    </tr>\n",
       "    <tr>\n",
       "      <th>5</th>\n",
       "      <td>household_electrical_devices</td>\n",
       "    </tr>\n",
       "    <tr>\n",
       "      <th>6</th>\n",
       "      <td>household_furniture</td>\n",
       "    </tr>\n",
       "    <tr>\n",
       "      <th>7</th>\n",
       "      <td>insects</td>\n",
       "    </tr>\n",
       "    <tr>\n",
       "      <th>8</th>\n",
       "      <td>large_carnivores</td>\n",
       "    </tr>\n",
       "    <tr>\n",
       "      <th>9</th>\n",
       "      <td>large_man-made_outdoor_things</td>\n",
       "    </tr>\n",
       "    <tr>\n",
       "      <th>10</th>\n",
       "      <td>large_natural_outdoor_scenes</td>\n",
       "    </tr>\n",
       "    <tr>\n",
       "      <th>11</th>\n",
       "      <td>large_omnivores_and_herbivores</td>\n",
       "    </tr>\n",
       "    <tr>\n",
       "      <th>12</th>\n",
       "      <td>medium_mammals</td>\n",
       "    </tr>\n",
       "    <tr>\n",
       "      <th>13</th>\n",
       "      <td>non-insect_invertebrates</td>\n",
       "    </tr>\n",
       "    <tr>\n",
       "      <th>14</th>\n",
       "      <td>people</td>\n",
       "    </tr>\n",
       "    <tr>\n",
       "      <th>15</th>\n",
       "      <td>reptiles</td>\n",
       "    </tr>\n",
       "    <tr>\n",
       "      <th>16</th>\n",
       "      <td>small_mammals</td>\n",
       "    </tr>\n",
       "    <tr>\n",
       "      <th>17</th>\n",
       "      <td>trees</td>\n",
       "    </tr>\n",
       "    <tr>\n",
       "      <th>18</th>\n",
       "      <td>vehicles_1</td>\n",
       "    </tr>\n",
       "    <tr>\n",
       "      <th>19</th>\n",
       "      <td>vehicles_2</td>\n",
       "    </tr>\n",
       "  </tbody>\n",
       "</table>\n",
       "</div>"
      ],
      "text/plain": [
       "                        SuperClass\n",
       "0                  aquatic_mammals\n",
       "1                             fish\n",
       "2                          flowers\n",
       "3                  food_containers\n",
       "4             fruit_and_vegetables\n",
       "5     household_electrical_devices\n",
       "6              household_furniture\n",
       "7                          insects\n",
       "8                 large_carnivores\n",
       "9    large_man-made_outdoor_things\n",
       "10    large_natural_outdoor_scenes\n",
       "11  large_omnivores_and_herbivores\n",
       "12                  medium_mammals\n",
       "13        non-insect_invertebrates\n",
       "14                          people\n",
       "15                        reptiles\n",
       "16                   small_mammals\n",
       "17                           trees\n",
       "18                      vehicles_1\n",
       "19                      vehicles_2"
      ]
     },
     "execution_count": 9,
     "metadata": {},
     "output_type": "execute_result"
    }
   ],
   "source": [
    "category = pd.DataFrame(metaData['coarse_label_names'], columns=['SuperClass'])\n",
    "category"
   ]
  },
  {
   "cell_type": "code",
   "execution_count": 10,
   "metadata": {
    "colab": {
     "base_uri": "https://localhost:8080/",
     "height": 423
    },
    "executionInfo": {
     "elapsed": 24,
     "status": "ok",
     "timestamp": 1700915184342,
     "user": {
      "displayName": "Utsav Das",
      "userId": "03850994718273475390"
     },
     "user_tz": -330
    },
    "id": "xv-tRny8_l3-",
    "outputId": "1c2ca396-d0ee-41e5-c894-52c99e753d13"
   },
   "outputs": [
    {
     "data": {
      "text/html": [
       "<div>\n",
       "<style scoped>\n",
       "    .dataframe tbody tr th:only-of-type {\n",
       "        vertical-align: middle;\n",
       "    }\n",
       "\n",
       "    .dataframe tbody tr th {\n",
       "        vertical-align: top;\n",
       "    }\n",
       "\n",
       "    .dataframe thead th {\n",
       "        text-align: right;\n",
       "    }\n",
       "</style>\n",
       "<table border=\"1\" class=\"dataframe\">\n",
       "  <thead>\n",
       "    <tr style=\"text-align: right;\">\n",
       "      <th></th>\n",
       "      <th>SubClass</th>\n",
       "    </tr>\n",
       "  </thead>\n",
       "  <tbody>\n",
       "    <tr>\n",
       "      <th>0</th>\n",
       "      <td>apple</td>\n",
       "    </tr>\n",
       "    <tr>\n",
       "      <th>1</th>\n",
       "      <td>aquarium_fish</td>\n",
       "    </tr>\n",
       "    <tr>\n",
       "      <th>2</th>\n",
       "      <td>baby</td>\n",
       "    </tr>\n",
       "    <tr>\n",
       "      <th>3</th>\n",
       "      <td>bear</td>\n",
       "    </tr>\n",
       "    <tr>\n",
       "      <th>4</th>\n",
       "      <td>beaver</td>\n",
       "    </tr>\n",
       "    <tr>\n",
       "      <th>...</th>\n",
       "      <td>...</td>\n",
       "    </tr>\n",
       "    <tr>\n",
       "      <th>95</th>\n",
       "      <td>whale</td>\n",
       "    </tr>\n",
       "    <tr>\n",
       "      <th>96</th>\n",
       "      <td>willow_tree</td>\n",
       "    </tr>\n",
       "    <tr>\n",
       "      <th>97</th>\n",
       "      <td>wolf</td>\n",
       "    </tr>\n",
       "    <tr>\n",
       "      <th>98</th>\n",
       "      <td>woman</td>\n",
       "    </tr>\n",
       "    <tr>\n",
       "      <th>99</th>\n",
       "      <td>worm</td>\n",
       "    </tr>\n",
       "  </tbody>\n",
       "</table>\n",
       "<p>100 rows × 1 columns</p>\n",
       "</div>"
      ],
      "text/plain": [
       "         SubClass\n",
       "0           apple\n",
       "1   aquarium_fish\n",
       "2            baby\n",
       "3            bear\n",
       "4          beaver\n",
       "..            ...\n",
       "95          whale\n",
       "96    willow_tree\n",
       "97           wolf\n",
       "98          woman\n",
       "99           worm\n",
       "\n",
       "[100 rows x 1 columns]"
      ]
     },
     "execution_count": 10,
     "metadata": {},
     "output_type": "execute_result"
    }
   ],
   "source": [
    "subCategory = pd.DataFrame(metaData['fine_label_names'], columns=['SubClass'])\n",
    "subCategory"
   ]
  },
  {
   "cell_type": "code",
   "execution_count": 11,
   "metadata": {
    "colab": {
     "base_uri": "https://localhost:8080/"
    },
    "executionInfo": {
     "elapsed": 23,
     "status": "ok",
     "timestamp": 1700915184342,
     "user": {
      "displayName": "Utsav Das",
      "userId": "03850994718273475390"
     },
     "user_tz": -330
    },
    "id": "vi4F8SgB_6CO",
    "outputId": "95576a90-62cd-4bc4-ca06-269cbb97091e"
   },
   "outputs": [
    {
     "data": {
      "text/plain": [
       "array([[255, 255, 255, ...,  10,  59,  79],\n",
       "       [255, 253, 253, ..., 253, 253, 255],\n",
       "       [250, 248, 247, ..., 194, 207, 228],\n",
       "       ...,\n",
       "       [248, 240, 236, ..., 180, 174, 205],\n",
       "       [156, 151, 151, ..., 114, 107, 126],\n",
       "       [ 31,  30,  31, ...,  72,  69,  67]], dtype=uint8)"
      ]
     },
     "execution_count": 11,
     "metadata": {},
     "output_type": "execute_result"
    }
   ],
   "source": [
    "X_train = trainData['data']\n",
    "X_train"
   ]
  },
  {
   "cell_type": "code",
   "execution_count": 12,
   "metadata": {
    "executionInfo": {
     "elapsed": 23,
     "status": "ok",
     "timestamp": 1700915184343,
     "user": {
      "displayName": "Utsav Das",
      "userId": "03850994718273475390"
     },
     "user_tz": -330
    },
    "id": "UD4QwBtWACAi"
   },
   "outputs": [],
   "source": [
    "X_train = X_train.reshape(len(X_train),3,32,32).transpose(0,2,3,1)"
   ]
  },
  {
   "cell_type": "code",
   "execution_count": 13,
   "metadata": {
    "colab": {
     "base_uri": "https://localhost:8080/",
     "height": 295
    },
    "executionInfo": {
     "elapsed": 23,
     "status": "ok",
     "timestamp": 1700915184343,
     "user": {
      "displayName": "Utsav Das",
      "userId": "03850994718273475390"
     },
     "user_tz": -330
    },
    "id": "GUhlSln7AG-q",
    "outputId": "b86784c4-7aec-4caf-f451-8a3f54ce9105"
   },
   "outputs": [
    {
     "name": "stdout",
     "output_type": "stream",
     "text": [
      "Image number selected : 17014\n",
      "Shape of image : (32, 32, 3)\n",
      "Image category number: 13\n",
      "Image category name: Non-insect_invertebrates\n",
      "Image subcategory number: 77\n",
      "Image subcategory name: Snail\n"
     ]
    },
    {
     "name": "stderr",
     "output_type": "stream",
     "text": [
      "C:\\Users\\Dwaipayan Nandi\\AppData\\Local\\Temp\\ipykernel_16824\\4293325046.py:12: FutureWarning: Series.__getitem__ treating keys as positions is deprecated. In a future version, integer keys will always be treated as labels (consistent with DataFrame behavior). To access a value by position, use `ser.iloc[pos]`\n",
      "  print(\"Image category name: {}\".format(category.iloc[trainData['coarse_labels'][imageId]][0].capitalize()))\n",
      "C:\\Users\\Dwaipayan Nandi\\AppData\\Local\\Temp\\ipykernel_16824\\4293325046.py:14: FutureWarning: Series.__getitem__ treating keys as positions is deprecated. In a future version, integer keys will always be treated as labels (consistent with DataFrame behavior). To access a value by position, use `ser.iloc[pos]`\n",
      "  print(\"Image subcategory name: {}\".format(subCategory.iloc[trainData['fine_labels'][imageId]][0].capitalize()))\n"
     ]
    },
    {
     "data": {
      "image/png": "[encoded data removed]",
      "text/plain": [
       "<Figure size 200x200 with 1 Axes>"
      ]
     },
     "metadata": {},
     "output_type": "display_data"
    }
   ],
   "source": [
    "rcParams['figure.figsize'] = 2,2\n",
    "\n",
    "imageId = np.random.randint(0, len(X_train))\n",
    "\n",
    "plt.imshow(X_train[imageId])\n",
    "\n",
    "plt.axis('off')\n",
    "\n",
    "print(\"Image number selected : {}\".format(imageId))\n",
    "print(\"Shape of image : {}\".format(X_train[imageId].shape))\n",
    "print(\"Image category number: {}\".format(trainData['coarse_labels'][imageId]))\n",
    "print(\"Image category name: {}\".format(category.iloc[trainData['coarse_labels'][imageId]][0].capitalize()))\n",
    "print(\"Image subcategory number: {}\".format(trainData['fine_labels'][imageId]))\n",
    "print(\"Image subcategory name: {}\".format(subCategory.iloc[trainData['fine_labels'][imageId]][0].capitalize()))"
   ]
  },
  {
   "cell_type": "code",
   "execution_count": 14,
   "metadata": {
    "colab": {
     "base_uri": "https://localhost:8080/",
     "height": 732
    },
    "executionInfo": {
     "elapsed": 2490,
     "status": "ok",
     "timestamp": 1700915186811,
     "user": {
      "displayName": "Utsav Das",
      "userId": "03850994718273475390"
     },
     "user_tz": -330
    },
    "id": "xmi7onuVAMX5",
    "outputId": "19b4fe43-6752-4fda-e607-89429d975f72"
   },
   "outputs": [
    {
     "name": "stderr",
     "output_type": "stream",
     "text": [
      "C:\\Users\\Dwaipayan Nandi\\AppData\\Local\\Temp\\ipykernel_16824\\3075283629.py:16: FutureWarning: Series.__getitem__ treating keys as positions is deprecated. In a future version, integer keys will always be treated as labels (consistent with DataFrame behavior). To access a value by position, use `ser.iloc[pos]`\n",
      "  axes[i,j].set_title(subCategory.iloc[trainData['fine_labels'][imageId[k]]][0].capitalize())\n"
     ]
    },
    {
     "data": {
      "image/png": "[encoded data removed]",
      "text/plain": [
       "<Figure size 800x800 with 16 Axes>"
      ]
     },
     "metadata": {},
     "output_type": "display_data"
    }
   ],
   "source": [
    "rcParams['figure.figsize'] = 8,8\n",
    "\n",
    "num_row = 4\n",
    "num_col = 4\n",
    "\n",
    "imageId = np.random.randint(0, len(X_train), num_row * num_col)\n",
    "#imageId\n",
    "\n",
    "fig, axes = plt.subplots(num_row, num_col)\n",
    "plt.suptitle('Images with True Labels', fontsize=18)\n",
    "\n",
    "for i in range(0, num_row):\n",
    "    for j in range(0, num_col):\n",
    "        k = (i*num_col)+j\n",
    "        axes[i,j].imshow(X_train[imageId[k]])\n",
    "        axes[i,j].set_title(subCategory.iloc[trainData['fine_labels'][imageId[k]]][0].capitalize())\n",
    "        axes[i,j].axis('off')"
   ]
  },
  {
   "cell_type": "code",
   "execution_count": 15,
   "metadata": {
    "colab": {
     "base_uri": "https://localhost:8080/"
    },
    "executionInfo": {
     "elapsed": 19,
     "status": "ok",
     "timestamp": 1700915186811,
     "user": {
      "displayName": "Utsav Das",
      "userId": "03850994718273475390"
     },
     "user_tz": -330
    },
    "id": "DfM8OXjBBTUu",
    "outputId": "752315fc-7bd4-44ab-b885-9300ab81d9cb"
   },
   "outputs": [
    {
     "data": {
      "text/plain": [
       "(10000, 32, 32, 3)"
      ]
     },
     "execution_count": 15,
     "metadata": {},
     "output_type": "execute_result"
    }
   ],
   "source": [
    "#transforming the testing dataset\n",
    "X_test = testData['data']\n",
    "X_test = X_test.reshape(len(X_test),3,32,32).transpose(0,2,3,1)\n",
    "X_test.shape"
   ]
  },
  {
   "cell_type": "code",
   "execution_count": 16,
   "metadata": {
    "executionInfo": {
     "elapsed": 17,
     "status": "ok",
     "timestamp": 1700915186812,
     "user": {
      "displayName": "Utsav Das",
      "userId": "03850994718273475390"
     },
     "user_tz": -330
    },
    "id": "eIcIGDf7Bwwk"
   },
   "outputs": [],
   "source": [
    "y_train = trainData['fine_labels']\n",
    "#y_train\n",
    "\n",
    "y_test = testData['fine_labels']\n",
    "#y_test"
   ]
  },
  {
   "cell_type": "code",
   "execution_count": 17,
   "metadata": {
    "executionInfo": {
     "elapsed": 16,
     "status": "ok",
     "timestamp": 1700915186812,
     "user": {
      "displayName": "Utsav Das",
      "userId": "03850994718273475390"
     },
     "user_tz": -330
    },
    "id": "7kahpypjB0K6"
   },
   "outputs": [],
   "source": [
    "num_class = 100\n",
    "\n",
    "y_train = keras.utils.to_categorical(y_train, num_class)\n",
    "#y_train\n",
    "\n",
    "y_test = keras.utils.to_categorical(y_test, num_class)\n",
    "#y_test"
   ]
  },
  {
   "cell_type": "code",
   "execution_count": 18,
   "metadata": {
    "executionInfo": {
     "elapsed": 752,
     "status": "ok",
     "timestamp": 1700915187548,
     "user": {
      "displayName": "Utsav Das",
      "userId": "03850994718273475390"
     },
     "user_tz": -330
    },
    "id": "AaS6z0wJB7sx"
   },
   "outputs": [],
   "source": [
    "X_train = X_train / 255.\n",
    "#X_train\n",
    "\n",
    "X_test = X_test / 255.\n",
    "#X_test"
   ]
  },
  {
   "cell_type": "code",
   "execution_count": 34,
   "metadata": {
    "executionInfo": {
     "elapsed": 743,
     "status": "ok",
     "timestamp": 1700915188287,
     "user": {
      "displayName": "Utsav Das",
      "userId": "03850994718273475390"
     },
     "user_tz": -330
    },
    "id": "5505AWmMB_2o"
   },
   "outputs": [],
   "source": [
    "# initializing CNN model\n",
    "model = Sequential()\n",
    "\n",
    "#Stack 1\n",
    "#convolution\n",
    "model.add(Conv2D(filters=128, kernel_size=3, padding=\"same\", activation=\"relu\", input_shape=X_train.shape[1:]))\n",
    "model.add(Conv2D(filters=128, kernel_size=3, padding=\"same\", activation=\"relu\"))\n",
    "#pooling\n",
    "model.add(MaxPool2D(pool_size=2, strides=2))\n",
    "#dropout\n",
    "model.add(Dropout(0.2))\n",
    "\n",
    "#Stack 2\n",
    "#convolution\n",
    "model.add(Conv2D(filters=256, kernel_size=3, padding=\"same\", activation=\"relu\"))\n",
    "model.add(MaxPool2D(pool_size=2, strides=1))\n",
    "model.add(Conv2D(filters=256, kernel_size=3, padding=\"same\", activation=\"relu\"))\n",
    "#pooling\n",
    "\n",
    "#dropout\n",
    "model.add(Dropout(0.5))\n",
    "\n",
    "#Stack 3\n",
    "#convolution\n",
    "model.add(Conv2D(filters=512, kernel_size=3, padding=\"same\", activation=\"relu\"))\n",
    "model.add(Conv2D(filters=512, kernel_size=3, padding=\"same\", activation=\"relu\"))\n",
    "#pooling\n",
    "model.add(MaxPool2D(pool_size=2, strides=2))\n",
    "#dropout\n",
    "model.add(Dropout(0.3))\n",
    "\n",
    "#Stack 4\n",
    "#convolution\n",
    "model.add(Conv2D(filters=512, kernel_size=3, padding=\"same\", activation=\"relu\"))\n",
    "model.add(Conv2D(filters=512, kernel_size=3, padding=\"same\", activation=\"relu\"))\n",
    "#pooling\n",
    "model.add(MaxPool2D(pool_size=2, strides=2))\n",
    "#dropout\n",
    "model.add(Dropout(0.3))\n",
    "\n",
    "#flattening\n",
    "model.add(Flatten())\n",
    "\n",
    "#full connection\n",
    "model.add(Dense(units=1000, activation=\"relu\"))\n",
    "#dropout\n",
    "model.add(Dropout(0.3))\n",
    "\n",
    "#full connection\n",
    "model.add(Dense(units=1000, activation=\"relu\"))\n",
    "#dropout\n",
    "model.add(Dropout(0.3))\n",
    "\n",
    "#output layer\n",
    "model.add(Dense(units=num_class, activation=\"softmax\"))"
   ]
  },
  {
   "cell_type": "code",
   "execution_count": 35,
   "metadata": {
    "colab": {
     "base_uri": "https://localhost:8080/"
    },
    "executionInfo": {
     "elapsed": 19,
     "status": "ok",
     "timestamp": 1700915188289,
     "user": {
      "displayName": "Utsav Das",
      "userId": "03850994718273475390"
     },
     "user_tz": -330
    },
    "id": "VFPJ6nT_CD6G",
    "outputId": "6323248b-ccec-42d6-cb6a-0737a1c5fa06"
   },
   "outputs": [
    {
     "name": "stdout",
     "output_type": "stream",
     "text": [
      "Model: \"sequential\"\n",
      "_________________________________________________________________\n",
      " Layer (type)                Output Shape              Param #   \n",
      "=================================================================\n",
      " conv2d_36 (Conv2D)          (None, 32, 32, 128)       3584      \n",
      "                                                                 \n",
      " conv2d_37 (Conv2D)          (None, 32, 32, 128)       147584    \n",
      "                                                                 \n",
      " max_pooling2d_1 (MaxPooling  (None, 16, 16, 128)      0         \n",
      " 2D)                                                             \n",
      "                                                                 \n",
      " dropout (Dropout)           (None, 16, 16, 128)       0         \n",
      "                                                                 \n",
      " conv2d_38 (Conv2D)          (None, 16, 16, 256)       295168    \n",
      "                                                                 \n",
      " max_pooling2d_2 (MaxPooling  (None, 15, 15, 256)      0         \n",
      " 2D)                                                             \n",
      "                                                                 \n",
      " conv2d_39 (Conv2D)          (None, 15, 15, 256)       590080    \n",
      "                                                                 \n",
      " dropout_1 (Dropout)         (None, 15, 15, 256)       0         \n",
      "                                                                 \n",
      " conv2d_40 (Conv2D)          (None, 15, 15, 512)       1180160   \n",
      "                                                                 \n",
      " conv2d_41 (Conv2D)          (None, 15, 15, 512)       2359808   \n",
      "                                                                 \n",
      " max_pooling2d_3 (MaxPooling  (None, 7, 7, 512)        0         \n",
      " 2D)                                                             \n",
      "                                                                 \n",
      " dropout_2 (Dropout)         (None, 7, 7, 512)         0         \n",
      "                                                                 \n",
      " conv2d_42 (Conv2D)          (None, 7, 7, 512)         2359808   \n",
      "                                                                 \n",
      " conv2d_43 (Conv2D)          (None, 7, 7, 512)         2359808   \n",
      "                                                                 \n",
      " max_pooling2d_4 (MaxPooling  (None, 3, 3, 512)        0         \n",
      " 2D)                                                             \n",
      "                                                                 \n",
      " dropout_3 (Dropout)         (None, 3, 3, 512)         0         \n",
      "                                                                 \n",
      " flatten_1 (Flatten)         (None, 4608)              0         \n",
      "                                                                 \n",
      " dense_2 (Dense)             (None, 1000)              4609000   \n",
      "                                                                 \n",
      " dropout_4 (Dropout)         (None, 1000)              0         \n",
      "                                                                 \n",
      " dense_3 (Dense)             (None, 1000)              1001000   \n",
      "                                                                 \n",
      " dropout_5 (Dropout)         (None, 1000)              0         \n",
      "                                                                 \n",
      " dense_4 (Dense)             (None, 100)               100100    \n",
      "                                                                 \n",
      "=================================================================\n",
      "Total params: 15,006,100\n",
      "Trainable params: 15,006,100\n",
      "Non-trainable params: 0\n",
      "_________________________________________________________________\n"
     ]
    }
   ],
   "source": [
    "model.summary()"
   ]
  },
  {
   "cell_type": "code",
   "execution_count": 36,
   "metadata": {
    "executionInfo": {
     "elapsed": 14,
     "status": "ok",
     "timestamp": 1700915188289,
     "user": {
      "displayName": "Utsav Das",
      "userId": "03850994718273475390"
     },
     "user_tz": -330
    },
    "id": "vyOzRQsYCGVQ"
   },
   "outputs": [],
   "source": [
    "epochs = 100\n",
    "batch_size = 64"
   ]
  },
  {
   "cell_type": "code",
   "execution_count": 37,
   "metadata": {
    "colab": {
     "base_uri": "https://localhost:8080/"
    },
    "executionInfo": {
     "elapsed": 461,
     "status": "ok",
     "timestamp": 1700915188737,
     "user": {
      "displayName": "Utsav Das",
      "userId": "03850994718273475390"
     },
     "user_tz": -330
    },
    "id": "PnrckGEeCPmY",
    "outputId": "1141f321-e9dc-4450-8c23-bc6e3a51dd75"
   },
   "outputs": [],
   "source": [
    "optimizer = keras.optimizers.Adam(lr=0.0001)\n",
    "\n",
    "#model compiling\n",
    "model.compile(optimizer=optimizer, loss='categorical_crossentropy', metrics=['accuracy'])"
   ]
  },
  {
   "cell_type": "code",
   "execution_count": 38,
   "metadata": {
    "executionInfo": {
     "elapsed": 6,
     "status": "ok",
     "timestamp": 1700915188737,
     "user": {
      "displayName": "Utsav Das",
      "userId": "03850994718273475390"
     },
     "user_tz": -330
    },
    "id": "R2IYrRq-CR_g"
   },
   "outputs": [],
   "source": [
    "#early stopping to monitor the validation loss and avoid overfitting\n",
    "early_stop = EarlyStopping(monitor='val_loss', mode='min', verbose=1, patience=20)\n",
    "\n",
    "#saving the model checkpoint for the best model\n",
    "model_checkpoint = ModelCheckpoint('best_model.h5', monitor='val_loss', mode='min', save_best_only=True, verbose=1)"
   ]
  },
  {
   "cell_type": "code",
   "execution_count": 39,
   "metadata": {
    "executionInfo": {
     "elapsed": 1644,
     "status": "ok",
     "timestamp": 1700915190376,
     "user": {
      "displayName": "Utsav Das",
      "userId": "03850994718273475390"
     },
     "user_tz": -330
    },
    "id": "ms2JpSieCYIe"
   },
   "outputs": [],
   "source": [
    "#image augmentation to expand the training dataset\n",
    "#validation split to test the model\n",
    "data_gen = ImageDataGenerator(\n",
    "            shear_range=0.2,\n",
    "            zoom_range=0.2,\n",
    "            horizontal_flip=True,\n",
    "            featurewise_center=True,\n",
    "            width_shift_range=0.1,\n",
    "            validation_split=0.2)\n",
    "\n",
    "data_gen.fit(X_train, seed=123)\n",
    "\n",
    "train_data_gen = data_gen.flow(X_train, y_train,\n",
    "                               batch_size=batch_size,\n",
    "                               subset=\"training\", seed=123)\n",
    "\n",
    "valid_data_gen = data_gen.flow(X_train, y_train,\n",
    "                               batch_size=batch_size,\n",
    "                               subset=\"validation\", seed=123)"
   ]
  },
  {
   "cell_type": "code",
   "execution_count": 40,
   "metadata": {
    "colab": {
     "base_uri": "https://localhost:8080/"
    },
    "id": "CKZz4qV2Ccoy",
    "outputId": "48086a63-e43a-4358-c2b8-cba15ea3f6e1",
    "scrolled": false
   },
   "outputs": [
    {
     "name": "stdout",
     "output_type": "stream",
     "text": [
      "Epoch 1/100\n",
      "625/625 [==============================] - ETA: 0s - loss: 4.4467 - accuracy: 0.0188\n",
      "Epoch 1: val_loss improved from inf to 4.30255, saving model to best_model.h5\n",
      "625/625 [==============================] - 59s 86ms/step - loss: 4.4467 - accuracy: 0.0188 - val_loss: 4.3026 - val_accuracy: 0.0319\n",
      "Epoch 2/100\n",
      "625/625 [==============================] - ETA: 0s - loss: 4.0907 - accuracy: 0.0571\n",
      "Epoch 2: val_loss improved from 4.30255 to 3.85809, saving model to best_model.h5\n",
      "625/625 [==============================] - 55s 88ms/step - loss: 4.0907 - accuracy: 0.0571 - val_loss: 3.8581 - val_accuracy: 0.0915\n",
      "Epoch 3/100\n",
      "625/625 [==============================] - ETA: 0s - loss: 3.7238 - accuracy: 0.1140\n",
      "Epoch 3: val_loss improved from 3.85809 to 3.57286, saving model to best_model.h5\n",
      "625/625 [==============================] - 55s 88ms/step - loss: 3.7238 - accuracy: 0.1140 - val_loss: 3.5729 - val_accuracy: 0.1412\n",
      "Epoch 4/100\n",
      "625/625 [==============================] - ETA: 0s - loss: 3.4416 - accuracy: 0.1607\n",
      "Epoch 4: val_loss improved from 3.57286 to 3.25184, saving model to best_model.h5\n",
      "625/625 [==============================] - 54s 87ms/step - loss: 3.4416 - accuracy: 0.1607 - val_loss: 3.2518 - val_accuracy: 0.2004\n",
      "Epoch 5/100\n",
      "625/625 [==============================] - ETA: 0s - loss: 3.2273 - accuracy: 0.2027\n",
      "Epoch 5: val_loss improved from 3.25184 to 3.04771, saving model to best_model.h5\n",
      "625/625 [==============================] - 55s 88ms/step - loss: 3.2273 - accuracy: 0.2027 - val_loss: 3.0477 - val_accuracy: 0.2424\n",
      "Epoch 6/100\n",
      "625/625 [==============================] - ETA: 0s - loss: 3.0407 - accuracy: 0.2385\n",
      "Epoch 6: val_loss improved from 3.04771 to 2.94928, saving model to best_model.h5\n",
      "625/625 [==============================] - 55s 88ms/step - loss: 3.0407 - accuracy: 0.2385 - val_loss: 2.9493 - val_accuracy: 0.2645\n",
      "Epoch 7/100\n",
      "625/625 [==============================] - ETA: 0s - loss: 2.8771 - accuracy: 0.2714\n",
      "Epoch 7: val_loss improved from 2.94928 to 2.75238, saving model to best_model.h5\n",
      "625/625 [==============================] - 55s 88ms/step - loss: 2.8771 - accuracy: 0.2714 - val_loss: 2.7524 - val_accuracy: 0.3028\n",
      "Epoch 8/100\n",
      "625/625 [==============================] - ETA: 0s - loss: 2.7289 - accuracy: 0.3020\n",
      "Epoch 8: val_loss improved from 2.75238 to 2.68335, saving model to best_model.h5\n",
      "625/625 [==============================] - 55s 88ms/step - loss: 2.7289 - accuracy: 0.3020 - val_loss: 2.6834 - val_accuracy: 0.3210\n",
      "Epoch 9/100\n",
      "625/625 [==============================] - ETA: 0s - loss: 2.5868 - accuracy: 0.3294\n",
      "Epoch 9: val_loss improved from 2.68335 to 2.55004, saving model to best_model.h5\n",
      "625/625 [==============================] - 55s 87ms/step - loss: 2.5868 - accuracy: 0.3294 - val_loss: 2.5500 - val_accuracy: 0.3445\n",
      "Epoch 10/100\n",
      "625/625 [==============================] - ETA: 0s - loss: 2.4775 - accuracy: 0.3531\n",
      "Epoch 10: val_loss improved from 2.55004 to 2.41717, saving model to best_model.h5\n",
      "625/625 [==============================] - 55s 88ms/step - loss: 2.4775 - accuracy: 0.3531 - val_loss: 2.4172 - val_accuracy: 0.3684\n",
      "Epoch 11/100\n",
      "625/625 [==============================] - ETA: 0s - loss: 2.3632 - accuracy: 0.3783\n",
      "Epoch 11: val_loss improved from 2.41717 to 2.30709, saving model to best_model.h5\n",
      "625/625 [==============================] - 55s 88ms/step - loss: 2.3632 - accuracy: 0.3783 - val_loss: 2.3071 - val_accuracy: 0.3908\n",
      "Epoch 12/100\n",
      "625/625 [==============================] - ETA: 0s - loss: 2.2800 - accuracy: 0.3975\n",
      "Epoch 12: val_loss improved from 2.30709 to 2.21885, saving model to best_model.h5\n",
      "625/625 [==============================] - 55s 88ms/step - loss: 2.2800 - accuracy: 0.3975 - val_loss: 2.2188 - val_accuracy: 0.4086\n",
      "Epoch 13/100\n",
      "625/625 [==============================] - ETA: 0s - loss: 2.1943 - accuracy: 0.4137\n",
      "Epoch 13: val_loss improved from 2.21885 to 2.19661, saving model to best_model.h5\n",
      "625/625 [==============================] - 55s 87ms/step - loss: 2.1943 - accuracy: 0.4137 - val_loss: 2.1966 - val_accuracy: 0.4188\n",
      "Epoch 14/100\n",
      "625/625 [==============================] - ETA: 0s - loss: 2.0976 - accuracy: 0.4337\n",
      "Epoch 14: val_loss improved from 2.19661 to 2.15287, saving model to best_model.h5\n",
      "625/625 [==============================] - 57s 92ms/step - loss: 2.0976 - accuracy: 0.4337 - val_loss: 2.1529 - val_accuracy: 0.4324\n",
      "Epoch 15/100\n",
      "625/625 [==============================] - ETA: 0s - loss: 2.0350 - accuracy: 0.4479\n",
      "Epoch 15: val_loss improved from 2.15287 to 2.11429, saving model to best_model.h5\n",
      "625/625 [==============================] - 68s 108ms/step - loss: 2.0350 - accuracy: 0.4479 - val_loss: 2.1143 - val_accuracy: 0.4420\n",
      "Epoch 16/100\n",
      "625/625 [==============================] - ETA: 0s - loss: 1.9707 - accuracy: 0.4615\n",
      "Epoch 16: val_loss improved from 2.11429 to 2.00204, saving model to best_model.h5\n",
      "625/625 [==============================] - 63s 100ms/step - loss: 1.9707 - accuracy: 0.4615 - val_loss: 2.0020 - val_accuracy: 0.4609\n",
      "Epoch 17/100\n",
      "625/625 [==============================] - ETA: 0s - loss: 1.9010 - accuracy: 0.4798\n",
      "Epoch 17: val_loss improved from 2.00204 to 1.95965, saving model to best_model.h5\n",
      "625/625 [==============================] - 65s 104ms/step - loss: 1.9010 - accuracy: 0.4798 - val_loss: 1.9596 - val_accuracy: 0.4732\n",
      "Epoch 18/100\n",
      "625/625 [==============================] - ETA: 0s - loss: 1.8439 - accuracy: 0.4929\n",
      "Epoch 18: val_loss did not improve from 1.95965\n",
      "625/625 [==============================] - 64s 103ms/step - loss: 1.8439 - accuracy: 0.4929 - val_loss: 1.9730 - val_accuracy: 0.4719\n",
      "Epoch 19/100\n",
      "625/625 [==============================] - ETA: 0s - loss: 1.7951 - accuracy: 0.5046\n",
      "Epoch 19: val_loss did not improve from 1.95965\n",
      "625/625 [==============================] - 64s 103ms/step - loss: 1.7951 - accuracy: 0.5046 - val_loss: 1.9630 - val_accuracy: 0.4680\n",
      "Epoch 20/100\n",
      "625/625 [==============================] - ETA: 0s - loss: 1.7388 - accuracy: 0.5175\n",
      "Epoch 20: val_loss improved from 1.95965 to 1.86941, saving model to best_model.h5\n",
      "625/625 [==============================] - 64s 103ms/step - loss: 1.7388 - accuracy: 0.5175 - val_loss: 1.8694 - val_accuracy: 0.4917\n",
      "Epoch 21/100\n",
      "625/625 [==============================] - ETA: 0s - loss: 1.6971 - accuracy: 0.5297\n",
      "Epoch 21: val_loss improved from 1.86941 to 1.84648, saving model to best_model.h5\n",
      "625/625 [==============================] - 64s 103ms/step - loss: 1.6971 - accuracy: 0.5297 - val_loss: 1.8465 - val_accuracy: 0.4938\n",
      "Epoch 22/100\n",
      "625/625 [==============================] - ETA: 0s - loss: 1.6386 - accuracy: 0.5438\n",
      "Epoch 22: val_loss improved from 1.84648 to 1.81714, saving model to best_model.h5\n",
      "625/625 [==============================] - 66s 105ms/step - loss: 1.6386 - accuracy: 0.5438 - val_loss: 1.8171 - val_accuracy: 0.5023\n",
      "Epoch 23/100\n",
      "625/625 [==============================] - ETA: 0s - loss: 1.6024 - accuracy: 0.5519\n",
      "Epoch 23: val_loss improved from 1.81714 to 1.78269, saving model to best_model.h5\n",
      "625/625 [==============================] - 69s 111ms/step - loss: 1.6024 - accuracy: 0.5519 - val_loss: 1.7827 - val_accuracy: 0.5143\n",
      "Epoch 24/100\n",
      "625/625 [==============================] - ETA: 0s - loss: 1.5552 - accuracy: 0.5609\n",
      "Epoch 24: val_loss improved from 1.78269 to 1.75010, saving model to best_model.h5\n",
      "625/625 [==============================] - 69s 111ms/step - loss: 1.5552 - accuracy: 0.5609 - val_loss: 1.7501 - val_accuracy: 0.5246\n",
      "Epoch 25/100\n",
      "625/625 [==============================] - ETA: 0s - loss: 1.5154 - accuracy: 0.5708\n",
      "Epoch 25: val_loss did not improve from 1.75010\n",
      "625/625 [==============================] - 69s 111ms/step - loss: 1.5154 - accuracy: 0.5708 - val_loss: 1.7642 - val_accuracy: 0.5188\n",
      "Epoch 26/100\n",
      "625/625 [==============================] - ETA: 0s - loss: 1.4576 - accuracy: 0.5865\n",
      "Epoch 26: val_loss improved from 1.75010 to 1.73434, saving model to best_model.h5\n",
      "625/625 [==============================] - 70s 111ms/step - loss: 1.4576 - accuracy: 0.5865 - val_loss: 1.7343 - val_accuracy: 0.5279\n",
      "Epoch 27/100\n",
      "625/625 [==============================] - ETA: 0s - loss: 1.4371 - accuracy: 0.5891\n",
      "Epoch 27: val_loss did not improve from 1.73434\n",
      "625/625 [==============================] - 69s 111ms/step - loss: 1.4371 - accuracy: 0.5891 - val_loss: 1.7503 - val_accuracy: 0.5333\n",
      "Epoch 28/100\n",
      "625/625 [==============================] - ETA: 0s - loss: 1.3915 - accuracy: 0.6013\n",
      "Epoch 28: val_loss did not improve from 1.73434\n",
      "625/625 [==============================] - 70s 112ms/step - loss: 1.3915 - accuracy: 0.6013 - val_loss: 1.7688 - val_accuracy: 0.5245\n",
      "Epoch 29/100\n",
      "625/625 [==============================] - ETA: 0s - loss: 1.3545 - accuracy: 0.6124\n",
      "Epoch 29: val_loss improved from 1.73434 to 1.68319, saving model to best_model.h5\n",
      "625/625 [==============================] - 70s 112ms/step - loss: 1.3545 - accuracy: 0.6124 - val_loss: 1.6832 - val_accuracy: 0.5407\n",
      "Epoch 30/100\n",
      "625/625 [==============================] - ETA: 0s - loss: 1.3253 - accuracy: 0.6172\n",
      "Epoch 30: val_loss improved from 1.68319 to 1.66760, saving model to best_model.h5\n",
      "625/625 [==============================] - 57s 92ms/step - loss: 1.3253 - accuracy: 0.6172 - val_loss: 1.6676 - val_accuracy: 0.5472\n",
      "Epoch 31/100\n",
      "625/625 [==============================] - ETA: 0s - loss: 1.2916 - accuracy: 0.6270\n",
      "Epoch 31: val_loss improved from 1.66760 to 1.66016, saving model to best_model.h5\n",
      "625/625 [==============================] - 47s 75ms/step - loss: 1.2916 - accuracy: 0.6270 - val_loss: 1.6602 - val_accuracy: 0.5511\n",
      "Epoch 32/100\n",
      "625/625 [==============================] - ETA: 0s - loss: 1.2596 - accuracy: 0.6369\n",
      "Epoch 32: val_loss did not improve from 1.66016\n",
      "625/625 [==============================] - 46s 73ms/step - loss: 1.2596 - accuracy: 0.6369 - val_loss: 1.6676 - val_accuracy: 0.5485\n",
      "Epoch 33/100\n",
      "625/625 [==============================] - ETA: 0s - loss: 1.2292 - accuracy: 0.6400\n",
      "Epoch 33: val_loss did not improve from 1.66016\n",
      "625/625 [==============================] - 46s 73ms/step - loss: 1.2292 - accuracy: 0.6400 - val_loss: 1.6660 - val_accuracy: 0.5497\n",
      "Epoch 34/100\n",
      "625/625 [==============================] - ETA: 0s - loss: 1.1919 - accuracy: 0.6533\n",
      "Epoch 34: val_loss improved from 1.66016 to 1.59564, saving model to best_model.h5\n",
      "625/625 [==============================] - 46s 74ms/step - loss: 1.1919 - accuracy: 0.6533 - val_loss: 1.5956 - val_accuracy: 0.5674\n",
      "Epoch 35/100\n",
      "625/625 [==============================] - ETA: 0s - loss: 1.1762 - accuracy: 0.6538\n",
      "Epoch 35: val_loss did not improve from 1.59564\n",
      "625/625 [==============================] - 46s 73ms/step - loss: 1.1762 - accuracy: 0.6538 - val_loss: 1.6516 - val_accuracy: 0.5640\n",
      "Epoch 36/100\n",
      "625/625 [==============================] - ETA: 0s - loss: 1.1435 - accuracy: 0.6627\n",
      "Epoch 36: val_loss did not improve from 1.59564\n",
      "625/625 [==============================] - 46s 73ms/step - loss: 1.1435 - accuracy: 0.6627 - val_loss: 1.6356 - val_accuracy: 0.5605\n",
      "Epoch 37/100\n",
      "625/625 [==============================] - ETA: 0s - loss: 1.1215 - accuracy: 0.6696\n",
      "Epoch 37: val_loss did not improve from 1.59564\n",
      "625/625 [==============================] - 46s 73ms/step - loss: 1.1215 - accuracy: 0.6696 - val_loss: 1.6389 - val_accuracy: 0.5654\n",
      "Epoch 38/100\n",
      "625/625 [==============================] - ETA: 0s - loss: 1.0952 - accuracy: 0.6758\n",
      "Epoch 38: val_loss did not improve from 1.59564\n",
      "625/625 [==============================] - 46s 74ms/step - loss: 1.0952 - accuracy: 0.6758 - val_loss: 1.6124 - val_accuracy: 0.5711\n",
      "Epoch 39/100\n",
      "625/625 [==============================] - ETA: 0s - loss: 1.0630 - accuracy: 0.6838\n",
      "Epoch 39: val_loss improved from 1.59564 to 1.59410, saving model to best_model.h5\n",
      "625/625 [==============================] - 46s 74ms/step - loss: 1.0630 - accuracy: 0.6838 - val_loss: 1.5941 - val_accuracy: 0.5769\n",
      "Epoch 40/100\n",
      "625/625 [==============================] - ETA: 0s - loss: 1.0407 - accuracy: 0.6901\n",
      "Epoch 40: val_loss did not improve from 1.59410\n",
      "625/625 [==============================] - 46s 73ms/step - loss: 1.0407 - accuracy: 0.6901 - val_loss: 1.5958 - val_accuracy: 0.5789\n",
      "Epoch 41/100\n",
      "625/625 [==============================] - ETA: 0s - loss: 1.0090 - accuracy: 0.6989\n",
      "Epoch 41: val_loss did not improve from 1.59410\n",
      "625/625 [==============================] - 45s 73ms/step - loss: 1.0090 - accuracy: 0.6989 - val_loss: 1.6004 - val_accuracy: 0.5796\n",
      "Epoch 42/100\n",
      "625/625 [==============================] - ETA: 0s - loss: 0.9913 - accuracy: 0.7031\n",
      "Epoch 42: val_loss improved from 1.59410 to 1.57455, saving model to best_model.h5\n",
      "625/625 [==============================] - 45s 73ms/step - loss: 0.9913 - accuracy: 0.7031 - val_loss: 1.5745 - val_accuracy: 0.5798\n",
      "Epoch 43/100\n",
      "625/625 [==============================] - ETA: 0s - loss: 0.9758 - accuracy: 0.7039\n",
      "Epoch 43: val_loss did not improve from 1.57455\n",
      "625/625 [==============================] - 45s 72ms/step - loss: 0.9758 - accuracy: 0.7039 - val_loss: 1.5836 - val_accuracy: 0.5828\n",
      "Epoch 44/100\n",
      "625/625 [==============================] - ETA: 0s - loss: 0.9479 - accuracy: 0.7169\n",
      "Epoch 44: val_loss did not improve from 1.57455\n",
      "625/625 [==============================] - 45s 72ms/step - loss: 0.9479 - accuracy: 0.7169 - val_loss: 1.6173 - val_accuracy: 0.5787\n",
      "Epoch 45/100\n",
      "625/625 [==============================] - ETA: 0s - loss: 0.9223 - accuracy: 0.7215\n",
      "Epoch 45: val_loss did not improve from 1.57455\n",
      "625/625 [==============================] - 46s 73ms/step - loss: 0.9223 - accuracy: 0.7215 - val_loss: 1.6052 - val_accuracy: 0.5801\n",
      "Epoch 46/100\n",
      "625/625 [==============================] - ETA: 0s - loss: 0.9092 - accuracy: 0.7246\n",
      "Epoch 46: val_loss did not improve from 1.57455\n",
      "625/625 [==============================] - 46s 74ms/step - loss: 0.9092 - accuracy: 0.7246 - val_loss: 1.6131 - val_accuracy: 0.5793\n",
      "Epoch 47/100\n",
      "625/625 [==============================] - ETA: 0s - loss: 0.8897 - accuracy: 0.7286\n",
      "Epoch 47: val_loss did not improve from 1.57455\n",
      "625/625 [==============================] - 46s 74ms/step - loss: 0.8897 - accuracy: 0.7286 - val_loss: 1.5824 - val_accuracy: 0.5864\n",
      "Epoch 48/100\n",
      "625/625 [==============================] - ETA: 0s - loss: 0.8611 - accuracy: 0.7379\n",
      "Epoch 48: val_loss did not improve from 1.57455\n",
      "625/625 [==============================] - 46s 74ms/step - loss: 0.8611 - accuracy: 0.7379 - val_loss: 1.5790 - val_accuracy: 0.5872\n",
      "Epoch 49/100\n",
      "625/625 [==============================] - ETA: 0s - loss: 0.8394 - accuracy: 0.7427\n",
      "Epoch 49: val_loss did not improve from 1.57455\n",
      "625/625 [==============================] - 46s 74ms/step - loss: 0.8394 - accuracy: 0.7427 - val_loss: 1.6077 - val_accuracy: 0.5894\n",
      "Epoch 50/100\n",
      "625/625 [==============================] - ETA: 0s - loss: 0.8278 - accuracy: 0.7481\n",
      "Epoch 50: val_loss did not improve from 1.57455\n",
      "625/625 [==============================] - 46s 74ms/step - loss: 0.8278 - accuracy: 0.7481 - val_loss: 1.5816 - val_accuracy: 0.5913\n",
      "Epoch 51/100\n",
      "625/625 [==============================] - ETA: 0s - loss: 0.8044 - accuracy: 0.7529\n",
      "Epoch 51: val_loss did not improve from 1.57455\n",
      "625/625 [==============================] - 46s 74ms/step - loss: 0.8044 - accuracy: 0.7529 - val_loss: 1.5767 - val_accuracy: 0.5961\n",
      "Epoch 52/100\n",
      "625/625 [==============================] - ETA: 0s - loss: 0.7886 - accuracy: 0.7566\n",
      "Epoch 52: val_loss did not improve from 1.57455\n",
      "625/625 [==============================] - 46s 74ms/step - loss: 0.7886 - accuracy: 0.7566 - val_loss: 1.6205 - val_accuracy: 0.5843\n",
      "Epoch 53/100\n",
      "625/625 [==============================] - ETA: 0s - loss: 0.7728 - accuracy: 0.7622\n",
      "Epoch 53: val_loss did not improve from 1.57455\n",
      "625/625 [==============================] - 46s 74ms/step - loss: 0.7728 - accuracy: 0.7622 - val_loss: 1.6355 - val_accuracy: 0.5903\n",
      "Epoch 54/100\n",
      "625/625 [==============================] - ETA: 0s - loss: 0.7581 - accuracy: 0.7681\n",
      "Epoch 54: val_loss did not improve from 1.57455\n",
      "625/625 [==============================] - 46s 73ms/step - loss: 0.7581 - accuracy: 0.7681 - val_loss: 1.6005 - val_accuracy: 0.5954\n",
      "Epoch 55/100\n",
      "625/625 [==============================] - ETA: 0s - loss: 0.7410 - accuracy: 0.7710\n",
      "Epoch 55: val_loss did not improve from 1.57455\n",
      "625/625 [==============================] - 46s 73ms/step - loss: 0.7410 - accuracy: 0.7710 - val_loss: 1.6215 - val_accuracy: 0.5915\n",
      "Epoch 56/100\n",
      "625/625 [==============================] - ETA: 0s - loss: 0.7278 - accuracy: 0.7779\n",
      "Epoch 56: val_loss did not improve from 1.57455\n",
      "625/625 [==============================] - 46s 73ms/step - loss: 0.7278 - accuracy: 0.7779 - val_loss: 1.5981 - val_accuracy: 0.5934\n",
      "Epoch 57/100\n",
      "625/625 [==============================] - ETA: 0s - loss: 0.7117 - accuracy: 0.7794\n",
      "Epoch 57: val_loss did not improve from 1.57455\n",
      "625/625 [==============================] - 46s 73ms/step - loss: 0.7117 - accuracy: 0.7794 - val_loss: 1.6040 - val_accuracy: 0.5988\n",
      "Epoch 58/100\n",
      "625/625 [==============================] - ETA: 0s - loss: 0.6993 - accuracy: 0.7827\n",
      "Epoch 58: val_loss did not improve from 1.57455\n",
      "625/625 [==============================] - 46s 73ms/step - loss: 0.6993 - accuracy: 0.7827 - val_loss: 1.5796 - val_accuracy: 0.5966\n",
      "Epoch 59/100\n",
      "625/625 [==============================] - ETA: 0s - loss: 0.6864 - accuracy: 0.7868\n",
      "Epoch 59: val_loss did not improve from 1.57455\n",
      "625/625 [==============================] - 46s 73ms/step - loss: 0.6864 - accuracy: 0.7868 - val_loss: 1.6112 - val_accuracy: 0.5962\n",
      "Epoch 60/100\n",
      "625/625 [==============================] - ETA: 0s - loss: 0.6623 - accuracy: 0.7942\n",
      "Epoch 60: val_loss did not improve from 1.57455\n",
      "625/625 [==============================] - 46s 73ms/step - loss: 0.6623 - accuracy: 0.7942 - val_loss: 1.6535 - val_accuracy: 0.5936\n",
      "Epoch 61/100\n",
      "625/625 [==============================] - ETA: 0s - loss: 0.6562 - accuracy: 0.7953\n",
      "Epoch 61: val_loss did not improve from 1.57455\n",
      "625/625 [==============================] - 46s 73ms/step - loss: 0.6562 - accuracy: 0.7953 - val_loss: 1.5940 - val_accuracy: 0.5982\n",
      "Epoch 62/100\n",
      "625/625 [==============================] - ETA: 0s - loss: 0.6407 - accuracy: 0.8000\n",
      "Epoch 62: val_loss did not improve from 1.57455\n",
      "625/625 [==============================] - 46s 73ms/step - loss: 0.6407 - accuracy: 0.8000 - val_loss: 1.6990 - val_accuracy: 0.5955\n",
      "Epoch 62: early stopping\n"
     ]
    }
   ],
   "source": [
    "model_history = model.fit(train_data_gen,\n",
    "                          steps_per_epoch=40000//batch_size,\n",
    "                          validation_data=valid_data_gen,\n",
    "                          validation_steps=10000//batch_size,\n",
    "                          callbacks=[early_stop, model_checkpoint],\n",
    "                          verbose=1,\n",
    "                          epochs=epochs)"
   ]
  },
  {
   "cell_type": "code",
   "execution_count": 41,
   "metadata": {
    "id": "TKbU5wDwCfXa"
   },
   "outputs": [
    {
     "data": {
      "image/png": "[encoded data removed]",
      "text/plain": [
       "<Figure size 1800x800 with 2 Axes>"
      ]
     },
     "metadata": {},
     "output_type": "display_data"
    }
   ],
   "source": [
    "#plot to visualize the loss and accuracy against number of epochs\n",
    "plt.figure(figsize=(18,8))\n",
    "\n",
    "plt.suptitle('Loss and Accuracy Plots', fontsize=18)\n",
    "\n",
    "plt.subplot(1,2,1)\n",
    "plt.plot(model_history.history['loss'], label='Training Loss')\n",
    "plt.plot(model_history.history['val_loss'], label='Validation Loss')\n",
    "plt.legend()\n",
    "plt.xlabel('Number of epochs', fontsize=15)\n",
    "plt.ylabel('Loss', fontsize=15)\n",
    "\n",
    "plt.subplot(1,2,2)\n",
    "plt.plot(model_history.history['accuracy'], label='Train Accuracy')\n",
    "plt.plot(model_history.history['val_accuracy'], label='Validation Accuracy')\n",
    "plt.legend()\n",
    "plt.xlabel('Number of epochs', fontsize=14)\n",
    "plt.ylabel('Accuracy', fontsize=14)\n",
    "plt.show()"
   ]
  },
  {
   "cell_type": "code",
   "execution_count": 42,
   "metadata": {
    "id": "Rvyr5IjOClAU"
   },
   "outputs": [
    {
     "name": "stderr",
     "output_type": "stream",
     "text": [
      "C:\\Users\\Dwaipayan Nandi\\AppData\\Local\\Temp\\ipykernel_16824\\2992606394.py:2: UserWarning: `Model.evaluate_generator` is deprecated and will be removed in a future version. Please use `Model.evaluate`, which supports generators.\n",
      "  valid_loss, valid_accuracy = model.evaluate_generator(generator=valid_data_gen, steps=10000//batch_size)\n",
      "C:\\Users\\Dwaipayan Nandi\\AppData\\Local\\Temp\\ipykernel_16824\\2992606394.py:3: UserWarning: `Model.evaluate_generator` is deprecated and will be removed in a future version. Please use `Model.evaluate`, which supports generators.\n",
      "  test_loss, test_accuracy = model.evaluate_generator(data_gen.flow(X_test, y_test, seed=123), steps=len(X_test)//batch_size)\n"
     ]
    },
    {
     "name": "stdout",
     "output_type": "stream",
     "text": [
      "Validation Accuracy:  59.49 %\n",
      "Test Accuracy:  59.38 %\n",
      " \n",
      "Validation Loss:  1.71\n",
      "Test Loss:  1.72\n"
     ]
    }
   ],
   "source": [
    "#train_loss, train_accuracy = model.evaluate_generator(generator=train_data_gen, steps=40000//batch_size)\n",
    "valid_loss, valid_accuracy = model.evaluate_generator(generator=valid_data_gen, steps=10000//batch_size)\n",
    "test_loss, test_accuracy = model.evaluate_generator(data_gen.flow(X_test, y_test, seed=123), steps=len(X_test)//batch_size)\n",
    "\n",
    "print('Validation Accuracy: ', round((valid_accuracy * 100), 2), \"%\")\n",
    "print('Test Accuracy: ', round((test_accuracy * 100), 2), \"%\")\n",
    "print(\" \")\n",
    "print('Validation Loss: ', round(valid_loss, 2))\n",
    "print('Test Loss: ', round(test_loss, 2))"
   ]
  },
  {
   "cell_type": "code",
   "execution_count": null,
   "metadata": {
    "id": "mAA2ErQDFLXv"
   },
   "outputs": [],
   "source": []
  }
 ],
 "metadata": {
  "accelerator": "GPU",
  "colab": {
   "authorship_tag": "ABX9TyO0FIetqxPZxOlLEkmP4Ndu",
   "provenance": []
  },
  "kernelspec": {
   "display_name": "tensorgpu",
   "language": "python",
   "name": "tensorgpu"
  },
  "language_info": {
   "codemirror_mode": {
    "name": "ipython",
    "version": 3
   },
   "file_extension": ".py",
   "mimetype": "text/x-python",
   "name": "python",
   "nbconvert_exporter": "python",
   "pygments_lexer": "ipython3",
   "version": "3.10.13"
  }
 },
 "nbformat": 4,
 "nbformat_minor": 1
}
